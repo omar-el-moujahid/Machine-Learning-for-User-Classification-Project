{
 "cells": [
  {
   "cell_type": "markdown",
   "id": "4b8ea9de",
   "metadata": {},
   "source": [
    "# Naïve Bayes Classifier"
   ]
  },
  {
   "cell_type": "markdown",
   "id": "003f5551",
   "metadata": {},
   "source": [
    "## Import the necessary libraires"
   ]
  },
  {
   "cell_type": "code",
   "execution_count": 2,
   "id": "6bc44a2e",
   "metadata": {},
   "outputs": [],
   "source": [
    "import pandas as pd\n",
    "\n",
    "### ENTER YOUR CODE HERE ###"
   ]
  },
  {
   "cell_type": "markdown",
   "id": "c15f578d",
   "metadata": {},
   "source": [
    "## Read the data"
   ]
  },
  {
   "cell_type": "code",
   "execution_count": 5,
   "id": "5521fb77",
   "metadata": {},
   "outputs": [
    {
     "data": {
      "text/html": [
       "<div>\n",
       "<style scoped>\n",
       "    .dataframe tbody tr th:only-of-type {\n",
       "        vertical-align: middle;\n",
       "    }\n",
       "\n",
       "    .dataframe tbody tr th {\n",
       "        vertical-align: top;\n",
       "    }\n",
       "\n",
       "    .dataframe thead th {\n",
       "        text-align: right;\n",
       "    }\n",
       "</style>\n",
       "<table border=\"1\" class=\"dataframe\">\n",
       "  <thead>\n",
       "    <tr style=\"text-align: right;\">\n",
       "      <th></th>\n",
       "      <th>Target</th>\n",
       "      <th>IDS</th>\n",
       "      <th>Date</th>\n",
       "      <th>Flag</th>\n",
       "      <th>User</th>\n",
       "      <th>Text</th>\n",
       "    </tr>\n",
       "  </thead>\n",
       "  <tbody>\n",
       "    <tr>\n",
       "      <th>0</th>\n",
       "      <td>0</td>\n",
       "      <td>1467810369</td>\n",
       "      <td>Mon Apr 06 22:19:45 PDT 2009</td>\n",
       "      <td>NO_QUERY</td>\n",
       "      <td>_TheSpecialOne_</td>\n",
       "      <td>@switchfoot http://twitpic.com/2y1zl - Awww, t...</td>\n",
       "    </tr>\n",
       "    <tr>\n",
       "      <th>1</th>\n",
       "      <td>0</td>\n",
       "      <td>1467810672</td>\n",
       "      <td>Mon Apr 06 22:19:49 PDT 2009</td>\n",
       "      <td>NO_QUERY</td>\n",
       "      <td>scotthamilton</td>\n",
       "      <td>is upset that he can't update his Facebook by ...</td>\n",
       "    </tr>\n",
       "    <tr>\n",
       "      <th>2</th>\n",
       "      <td>0</td>\n",
       "      <td>1467810917</td>\n",
       "      <td>Mon Apr 06 22:19:53 PDT 2009</td>\n",
       "      <td>NO_QUERY</td>\n",
       "      <td>mattycus</td>\n",
       "      <td>@Kenichan I dived many times for the ball. Man...</td>\n",
       "    </tr>\n",
       "    <tr>\n",
       "      <th>3</th>\n",
       "      <td>0</td>\n",
       "      <td>1467811184</td>\n",
       "      <td>Mon Apr 06 22:19:57 PDT 2009</td>\n",
       "      <td>NO_QUERY</td>\n",
       "      <td>ElleCTF</td>\n",
       "      <td>my whole body feels itchy and like its on fire</td>\n",
       "    </tr>\n",
       "    <tr>\n",
       "      <th>4</th>\n",
       "      <td>0</td>\n",
       "      <td>1467811193</td>\n",
       "      <td>Mon Apr 06 22:19:57 PDT 2009</td>\n",
       "      <td>NO_QUERY</td>\n",
       "      <td>Karoli</td>\n",
       "      <td>@nationwideclass no, it's not behaving at all....</td>\n",
       "    </tr>\n",
       "  </tbody>\n",
       "</table>\n",
       "</div>"
      ],
      "text/plain": [
       "   Target         IDS                          Date      Flag  \\\n",
       "0       0  1467810369  Mon Apr 06 22:19:45 PDT 2009  NO_QUERY   \n",
       "1       0  1467810672  Mon Apr 06 22:19:49 PDT 2009  NO_QUERY   \n",
       "2       0  1467810917  Mon Apr 06 22:19:53 PDT 2009  NO_QUERY   \n",
       "3       0  1467811184  Mon Apr 06 22:19:57 PDT 2009  NO_QUERY   \n",
       "4       0  1467811193  Mon Apr 06 22:19:57 PDT 2009  NO_QUERY   \n",
       "\n",
       "              User                                               Text  \n",
       "0  _TheSpecialOne_  @switchfoot http://twitpic.com/2y1zl - Awww, t...  \n",
       "1    scotthamilton  is upset that he can't update his Facebook by ...  \n",
       "2         mattycus  @Kenichan I dived many times for the ball. Man...  \n",
       "3          ElleCTF    my whole body feels itchy and like its on fire   \n",
       "4           Karoli  @nationwideclass no, it's not behaving at all....  "
      ]
     },
     "execution_count": 5,
     "metadata": {},
     "output_type": "execute_result"
    }
   ],
   "source": [
    "data = pd.read_csv('chirper.csv', encoding = \"ISO-8859-1\")\n",
    "data.head()"
   ]
  },
  {
   "cell_type": "code",
   "execution_count": 7,
   "id": "1d423d13",
   "metadata": {},
   "outputs": [
    {
     "data": {
      "text/plain": [
       "Target\n",
       "1    9500\n",
       "0     500\n",
       "Name: count, dtype: int64"
      ]
     },
     "execution_count": 7,
     "metadata": {},
     "output_type": "execute_result"
    }
   ],
   "source": [
    "data['Target'].value_counts()"
   ]
  },
  {
   "cell_type": "markdown",
   "id": "4927caea",
   "metadata": {},
   "source": [
    "## Define the inputs and the target"
   ]
  },
  {
   "cell_type": "markdown",
   "id": "800dd9ce",
   "metadata": {},
   "source": [
    "Identify the **relevant** columns and declare the variables below."
   ]
  },
  {
   "cell_type": "code",
   "execution_count": 9,
   "id": "e843c8bc",
   "metadata": {},
   "outputs": [],
   "source": [
    "inputs = data['Text']\n",
    "target = data['Target']"
   ]
  },
  {
   "cell_type": "markdown",
   "id": "46494be2",
   "metadata": {},
   "source": [
    "## Split the data into training and tesitng"
   ]
  },
  {
   "cell_type": "markdown",
   "id": "a4e3400c",
   "metadata": {},
   "source": [
    "* Perform a 70:30 split - 30% of the data should be dedicated to testing.\n",
    "* Set the random state to 365.\n",
    "* Make sure that there is a fair distribution of the representatives from each class."
   ]
  },
  {
   "cell_type": "code",
   "execution_count": null,
   "id": "b09d5c83",
   "metadata": {},
   "outputs": [],
   "source": [
    "x_train, x_test, y_train, y_test = ### ENTER YOUR CODE HERE ###"
   ]
  },
  {
   "cell_type": "markdown",
   "id": "a3643f04",
   "metadata": {},
   "source": [
    "## Transform the training and testing inputs using CountVectorizer"
   ]
  },
  {
   "cell_type": "code",
   "execution_count": null,
   "id": "c88b166b",
   "metadata": {},
   "outputs": [],
   "source": [
    "### ENTER YOUR CODE HERE ###"
   ]
  },
  {
   "cell_type": "markdown",
   "id": "6ae0e60b",
   "metadata": {},
   "source": [
    "## Create a Naïve Bayes model"
   ]
  },
  {
   "cell_type": "markdown",
   "id": "fc6e4c6f",
   "metadata": {},
   "source": [
    "* Create an instance of the Naïve Bayes class.\n",
    "* Fit the data to the model."
   ]
  },
  {
   "cell_type": "code",
   "execution_count": null,
   "id": "db208c80",
   "metadata": {},
   "outputs": [],
   "source": [
    "### ENTER YOUR CODE HERE ###"
   ]
  },
  {
   "cell_type": "markdown",
   "id": "563fd5db",
   "metadata": {},
   "source": [
    "## Make predictions on the test data"
   ]
  },
  {
   "cell_type": "code",
   "execution_count": null,
   "id": "6fb965b7",
   "metadata": {},
   "outputs": [],
   "source": [
    "### ENTER YOUR CODE HERE ###"
   ]
  },
  {
   "cell_type": "markdown",
   "id": "859d82a0",
   "metadata": {},
   "source": [
    "## Create a confusion matrix"
   ]
  },
  {
   "cell_type": "code",
   "execution_count": null,
   "id": "eff3cffb",
   "metadata": {},
   "outputs": [],
   "source": [
    "### ENTER YOUR CODE HERE ###"
   ]
  },
  {
   "cell_type": "markdown",
   "id": "48a27de6",
   "metadata": {},
   "source": [
    "## Print a classification report"
   ]
  },
  {
   "cell_type": "markdown",
   "id": "34204f19",
   "metadata": {},
   "source": [
    "* Fill in the parameters necessary for the classification_report() method.\n",
    "* A parameter **zero_division** has been also added and set to 0."
   ]
  },
  {
   "cell_type": "code",
   "execution_count": null,
   "id": "f0ffefb7",
   "metadata": {},
   "outputs": [],
   "source": [
    "print(classification_report(### ENTER YOUR CODE HERE ###\n",
    "                            zero_division = 0))"
   ]
  },
  {
   "cell_type": "code",
   "execution_count": 11,
   "id": "498a3e9d-f8db-400d-91bb-b7acb40945b9",
   "metadata": {},
   "outputs": [
    {
     "ename": "TypeError",
     "evalue": "'zero_division' is an invalid keyword argument for print()",
     "output_type": "error",
     "traceback": [
      "\u001b[1;31m---------------------------------------------------------------------------\u001b[0m",
      "\u001b[1;31mTypeError\u001b[0m                                 Traceback (most recent call last)",
      "Cell \u001b[1;32mIn[11], line 20\u001b[0m\n\u001b[0;32m     16\u001b[0m ConfusionMatrixDisplay\u001b[38;5;241m.\u001b[39mfrom_predictions(\n\u001b[0;32m     17\u001b[0m     y_test , y_pred \n\u001b[0;32m     18\u001b[0m )\n\u001b[0;32m     19\u001b[0m \u001b[38;5;28;01mfrom\u001b[39;00m \u001b[38;5;21;01msklearn\u001b[39;00m\u001b[38;5;21;01m.\u001b[39;00m\u001b[38;5;21;01mmetrics\u001b[39;00m \u001b[38;5;28;01mimport\u001b[39;00m classification_report\n\u001b[1;32m---> 20\u001b[0m \u001b[38;5;28mprint\u001b[39m(classification_report(y_test,y_pred),zero_division \u001b[38;5;241m=\u001b[39m \u001b[38;5;241m0\u001b[39m)\n",
      "\u001b[1;31mTypeError\u001b[0m: 'zero_division' is an invalid keyword argument for print()"
     ]
    },
    {
     "data": {
      "image/png": "[encoded data removed]",
      "text/plain": [
       "<Figure size 640x480 with 2 Axes>"
      ]
     },
     "metadata": {},
     "output_type": "display_data"
    }
   ],
   "source": [
    "inputs = data['Text']\n",
    "target = data['Target']\n",
    "from sklearn.feature_extraction.text import CountVectorizer\n",
    "CountVectorizer=CountVectorizer()\n",
    "CountVectorizer.fit_transform(inputs)\n",
    "from sklearn.model_selection import train_test_split\n",
    "x_train, x_test, y_train, y_test = train_test_split(inputs,target , train_size=0.8,random_state=365\n",
    "                                                     ,stratify=target)\n",
    "x_train_transform = CountVectorizer.fit_transform(x_train)\n",
    "x_test_transform = CountVectorizer.transform(x_test)\n",
    "from sklearn.naive_bayes import MultinomialNB\n",
    "clf = MultinomialNB()\n",
    "clf.fit(x_train_transform,y_train)\n",
    "y_pred=clf.predict(x_test_transform)\n",
    "from sklearn.metrics import ConfusionMatrixDisplay \n",
    "ConfusionMatrixDisplay.from_predictions(\n",
    "    y_test , y_pred \n",
    ")\n",
    "from sklearn.metrics import classification_report\n",
    "print(classification_report(y_test,y_pred,zero_division = 0))\n"
   ]
  },
  {
   "cell_type": "code",
   "execution_count": 13,
   "id": "0ede62a3-5586-4e1e-9439-2637ac0d34e0",
   "metadata": {},
   "outputs": [
    {
     "name": "stdout",
     "output_type": "stream",
     "text": [
      "              precision    recall  f1-score   support\n",
      "\n",
      "           0       0.00      0.00      0.00       100\n",
      "           1       0.95      1.00      0.97      1900\n",
      "\n",
      "    accuracy                           0.95      2000\n",
      "   macro avg       0.47      0.50      0.49      2000\n",
      "weighted avg       0.90      0.95      0.93      2000\n",
      "\n"
     ]
    }
   ],
   "source": [
    "print(classification_report(y_test,y_pred,zero_division = 0))\n"
   ]
  },
  {
   "cell_type": "code",
   "execution_count": 15,
   "id": "c8530968-3409-41c9-8f03-533eec5cb9af",
   "metadata": {},
   "outputs": [
    {
     "name": "stdout",
     "output_type": "stream",
     "text": [
      "              precision    recall  f1-score   support\n",
      "\n",
      "           0       0.15      0.05      0.07       100\n",
      "           1       0.95      0.98      0.97      1900\n",
      "\n",
      "    accuracy                           0.94      2000\n",
      "   macro avg       0.55      0.52      0.52      2000\n",
      "weighted avg       0.91      0.94      0.92      2000\n",
      "\n"
     ]
    },
    {
     "data": {
      "image/png": "[encoded data removed]",
      "text/plain": [
       "<Figure size 640x480 with 2 Axes>"
      ]
     },
     "metadata": {},
     "output_type": "display_data"
    }
   ],
   "source": [
    "inputs = data['Text']\n",
    "target = data['Target']\n",
    "from sklearn.feature_extraction.text import CountVectorizer\n",
    "CountVectorizer=CountVectorizer()\n",
    "CountVectorizer.fit_transform(inputs)\n",
    "from sklearn.model_selection import train_test_split\n",
    "x_train, x_test, y_train, y_test = train_test_split(inputs,target , train_size=0.8,random_state=365\n",
    "                                                     ,stratify=target)\n",
    "x_train_transform = CountVectorizer.fit_transform(x_train)\n",
    "x_test_transform = CountVectorizer.transform(x_test)\n",
    "from sklearn.naive_bayes import ComplementNB\n",
    "clf = ComplementNB()\n",
    "clf.fit(x_train_transform,y_train)\n",
    "y_pred=clf.predict(x_test_transform)\n",
    "from sklearn.metrics import ConfusionMatrixDisplay \n",
    "ConfusionMatrixDisplay.from_predictions(\n",
    "    y_test , y_pred \n",
    ")\n",
    "from sklearn.metrics import classification_report\n",
    "print(classification_report(y_test,y_pred,zero_division = 0))\n"
   ]
  },
  {
   "cell_type": "code",
   "execution_count": null,
   "id": "1af39f01-cc7b-4a74-ad13-48f1f49019fd",
   "metadata": {},
   "outputs": [],
   "source": []
  }
 ],
 "metadata": {
  "kernelspec": {
   "display_name": "Python 3 (ipykernel)",
   "language": "python",
   "name": "python3"
  },
  "language_info": {
   "codemirror_mode": {
    "name": "ipython",
    "version": 3
   },
   "file_extension": ".py",
   "mimetype": "text/x-python",
   "name": "python",
   "nbconvert_exporter": "python",
   "pygments_lexer": "ipython3",
   "version": "3.12.4"
  }
 },
 "nbformat": 4,
 "nbformat_minor": 5
}
