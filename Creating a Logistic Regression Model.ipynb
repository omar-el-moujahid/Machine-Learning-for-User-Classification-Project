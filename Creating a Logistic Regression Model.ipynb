{
 "cells": [
  {
   "cell_type": "code",
   "execution_count": 2,
   "id": "aed50599-5161-4ba8-b233-5eeab5b92d32",
   "metadata": {},
   "outputs": [],
   "source": [
    "import pandas as pd\n",
    "import numpy as np\n",
    "import matplotlib.pyplot as plt\n",
    "import seaborn as sns \n",
    "%matplotlib inline "
   ]
  },
  {
   "cell_type": "code",
   "execution_count": 162,
   "id": "324620cc-5735-4bb4-b9b6-18f7d8ccfb09",
   "metadata": {},
   "outputs": [],
   "source": [
    "df=pd.read_csv(\"./ml_datasource_prepare.csv\")"
   ]
  },
  {
   "cell_type": "code",
   "execution_count": 164,
   "id": "b9b91311-4ce3-4dd2-b33a-3e42987f9bf1",
   "metadata": {},
   "outputs": [
    {
     "data": {
      "text/html": [
       "<div>\n",
       "<style scoped>\n",
       "    .dataframe tbody tr th:only-of-type {\n",
       "        vertical-align: middle;\n",
       "    }\n",
       "\n",
       "    .dataframe tbody tr th {\n",
       "        vertical-align: top;\n",
       "    }\n",
       "\n",
       "    .dataframe thead th {\n",
       "        text-align: right;\n",
       "    }\n",
       "</style>\n",
       "<table border=\"1\" class=\"dataframe\">\n",
       "  <thead>\n",
       "    <tr style=\"text-align: right;\">\n",
       "      <th></th>\n",
       "      <th>student_country</th>\n",
       "      <th>days_on_platform</th>\n",
       "      <th>minutes_watched</th>\n",
       "      <th>courses_started</th>\n",
       "      <th>practice_exams_started</th>\n",
       "      <th>practice_exams_passed</th>\n",
       "      <th>minutes_spent_on_exams</th>\n",
       "      <th>purchased</th>\n",
       "    </tr>\n",
       "  </thead>\n",
       "  <tbody>\n",
       "    <tr>\n",
       "      <th>2</th>\n",
       "      <td>151.0</td>\n",
       "      <td>260</td>\n",
       "      <td>22.4</td>\n",
       "      <td>1</td>\n",
       "      <td>1</td>\n",
       "      <td>0</td>\n",
       "      <td>0.93</td>\n",
       "      <td>0</td>\n",
       "    </tr>\n",
       "    <tr>\n",
       "      <th>6</th>\n",
       "      <td>87.0</td>\n",
       "      <td>251</td>\n",
       "      <td>0.2</td>\n",
       "      <td>1</td>\n",
       "      <td>1</td>\n",
       "      <td>0</td>\n",
       "      <td>0.88</td>\n",
       "      <td>0</td>\n",
       "    </tr>\n",
       "    <tr>\n",
       "      <th>20</th>\n",
       "      <td>127.0</td>\n",
       "      <td>228</td>\n",
       "      <td>8.6</td>\n",
       "      <td>1</td>\n",
       "      <td>1</td>\n",
       "      <td>0</td>\n",
       "      <td>1.72</td>\n",
       "      <td>0</td>\n",
       "    </tr>\n",
       "    <tr>\n",
       "      <th>24</th>\n",
       "      <td>71.0</td>\n",
       "      <td>221</td>\n",
       "      <td>2.2</td>\n",
       "      <td>1</td>\n",
       "      <td>1</td>\n",
       "      <td>0</td>\n",
       "      <td>2.38</td>\n",
       "      <td>0</td>\n",
       "    </tr>\n",
       "    <tr>\n",
       "      <th>26</th>\n",
       "      <td>123.0</td>\n",
       "      <td>220</td>\n",
       "      <td>4.5</td>\n",
       "      <td>1</td>\n",
       "      <td>1</td>\n",
       "      <td>0</td>\n",
       "      <td>2.20</td>\n",
       "      <td>0</td>\n",
       "    </tr>\n",
       "  </tbody>\n",
       "</table>\n",
       "</div>"
      ],
      "text/plain": [
       "    student_country  days_on_platform  minutes_watched  courses_started  \\\n",
       "2             151.0               260             22.4                1   \n",
       "6              87.0               251              0.2                1   \n",
       "20            127.0               228              8.6                1   \n",
       "24             71.0               221              2.2                1   \n",
       "26            123.0               220              4.5                1   \n",
       "\n",
       "    practice_exams_started  practice_exams_passed  minutes_spent_on_exams  \\\n",
       "2                        1                      0                    0.93   \n",
       "6                        1                      0                    0.88   \n",
       "20                       1                      0                    1.72   \n",
       "24                       1                      0                    2.38   \n",
       "26                       1                      0                    2.20   \n",
       "\n",
       "    purchased  \n",
       "2           0  \n",
       "6           0  \n",
       "20          0  \n",
       "24          0  \n",
       "26          0  "
      ]
     },
     "execution_count": 164,
     "metadata": {},
     "output_type": "execute_result"
    }
   ],
   "source": [
    "df.head()"
   ]
  },
  {
   "cell_type": "code",
   "execution_count": 166,
   "id": "45415618-d6ee-41da-97e4-759095e39c33",
   "metadata": {},
   "outputs": [],
   "source": [
    "df_inputs=df.drop('purchased',axis=1)\n",
    "df_target=df['purchased']"
   ]
  },
  {
   "cell_type": "code",
   "execution_count": 168,
   "id": "498a8933-4346-4952-8882-c2bbd1ba2c77",
   "metadata": {},
   "outputs": [],
   "source": [
    "from sklearn.model_selection import train_test_split\n",
    "x_train,x_test,y_train,y_test=train_test_split(df_inputs,df_target,test_size=0.2)"
   ]
  },
  {
   "cell_type": "markdown",
   "id": "2d0aefe1-dfee-430d-8c1d-951f17af35b7",
   "metadata": {},
   "source": [
    "## using statsmodels"
   ]
  },
  {
   "cell_type": "code",
   "execution_count": 171,
   "id": "567d85c3-7bf9-4089-a420-2aad8c4706ec",
   "metadata": {},
   "outputs": [
    {
     "name": "stdout",
     "output_type": "stream",
     "text": [
      "                 Generalized Linear Model Regression Results                  \n",
      "==============================================================================\n",
      "Dep. Variable:              purchased   No. Observations:                12728\n",
      "Model:                            GLM   Df Residuals:                    12721\n",
      "Model Family:                Binomial   Df Model:                            6\n",
      "Link Function:                  Logit   Scale:                          1.0000\n",
      "Method:                          IRLS   Log-Likelihood:                -1628.6\n",
      "Date:                Fri, 01 Nov 2024   Deviance:                       3257.2\n",
      "Time:                        22:43:00   Pearson chi2:                 3.75e+06\n",
      "No. Iterations:                    10   Pseudo R-squ. (CS):             0.2794\n",
      "Covariance Type:            nonrobust                                         \n",
      "==========================================================================================\n",
      "                             coef    std err          z      P>|z|      [0.025      0.975]\n",
      "------------------------------------------------------------------------------------------\n",
      "const                     -1.8079      0.196     -9.203      0.000      -2.193      -1.423\n",
      "student_country            0.0071      0.001      7.762      0.000       0.005       0.009\n",
      "days_on_platform          -0.0653      0.002    -26.802      0.000      -0.070      -0.061\n",
      "minutes_watched            0.0307      0.001     21.033      0.000       0.028       0.034\n",
      "courses_started            0.4735      0.159      2.970      0.003       0.161       0.786\n",
      "practice_exams_started    -5.6916      2.775     -2.051      0.040     -11.131      -0.252\n",
      "practice_exams_passed           0          0        nan        nan           0           0\n",
      "minutes_spent_on_exams     1.4421      0.844      1.709      0.087      -0.212       3.096\n",
      "==========================================================================================\n"
     ]
    }
   ],
   "source": [
    "import statsmodels.api as sm\n",
    "x_train = sm.add_constant(x_train)\n",
    "x_test = sm.add_constant(x_test)\n",
    "log_reg=sm.GLM(y_train,x_train,family=sm.families.Binomial())\n",
    "log_reg_results = log_reg.fit()  # Fit the model\n",
    "print(log_reg_results.summary())"
   ]
  },
  {
   "cell_type": "code",
   "execution_count": 172,
   "id": "d4889156-151d-4f33-930e-12ccda1605b3",
   "metadata": {},
   "outputs": [],
   "source": [
    "predictions_prob = log_reg_results.predict(x_test) "
   ]
  },
  {
   "cell_type": "code",
   "execution_count": 175,
   "id": "f0161477-b828-4157-857f-7d70bde75f2d",
   "metadata": {},
   "outputs": [
    {
     "data": {
      "text/plain": [
       "2430     6.540952e-09\n",
       "11927    5.787624e-01\n",
       "13332    4.042617e-02\n",
       "10241    8.691700e-05\n",
       "4288     6.539139e-08\n",
       "             ...     \n",
       "4735     1.817175e-07\n",
       "15811    1.643207e-01\n",
       "7022     1.078078e-05\n",
       "12384    3.112091e-03\n",
       "14015    2.431539e-02\n",
       "Length: 3182, dtype: float64"
      ]
     },
     "execution_count": 175,
     "metadata": {},
     "output_type": "execute_result"
    }
   ],
   "source": [
    "predictions_prob"
   ]
  },
  {
   "cell_type": "code",
   "execution_count": 176,
   "id": "82882597-a212-4834-88fd-48cd80b784a4",
   "metadata": {},
   "outputs": [],
   "source": [
    "predictions_class = np.where(predictions_prob >= 0.5, 1, 0)\n"
   ]
  },
  {
   "cell_type": "code",
   "execution_count": 179,
   "id": "d10ef508-4bf6-40f0-a314-12ca06b706ec",
   "metadata": {},
   "outputs": [
    {
     "data": {
      "text/plain": [
       "array([0, 1, 0, ..., 0, 0, 0])"
      ]
     },
     "execution_count": 179,
     "metadata": {},
     "output_type": "execute_result"
    }
   ],
   "source": [
    "predictions_class"
   ]
  },
  {
   "cell_type": "code",
   "execution_count": 180,
   "id": "0d64c716-af17-445a-b898-2772e8fd3f84",
   "metadata": {},
   "outputs": [
    {
     "data": {
      "text/plain": [
       "<sklearn.metrics._plot.confusion_matrix.ConfusionMatrixDisplay at 0x201ce4bc950>"
      ]
     },
     "execution_count": 180,
     "metadata": {},
     "output_type": "execute_result"
    },
    {
     "data": {
      "image/png": "[encoded data removed]",
      "text/plain": [
       "<Figure size 640x480 with 2 Axes>"
      ]
     },
     "metadata": {},
     "output_type": "display_data"
    }
   ],
   "source": [
    "from sklearn.metrics import confusion_matrix, ConfusionMatrixDisplay\n",
    "cm = confusion_matrix(y_test, predictions_class)\n",
    "disp = ConfusionMatrixDisplay(confusion_matrix=cm, display_labels=[0, 1])\n",
    "disp.plot(cmap='Blues')"
   ]
  },
  {
   "cell_type": "code",
   "execution_count": 182,
   "id": "a00b1869-fd97-4805-9dc3-ded8a7a3faac",
   "metadata": {},
   "outputs": [
    {
     "name": "stdout",
     "output_type": "stream",
     "text": [
      "R-squared using probabilities: -0.7180757919840293\n"
     ]
    }
   ],
   "source": [
    "from sklearn.metrics import r2_score\n",
    "r2 = r2_score(y_test, y_predect)\n",
    "print(\"R-squared using probabilities:\", r2)"
   ]
  },
  {
   "cell_type": "markdown",
   "id": "76786144-17bd-456f-9c30-b085be83599a",
   "metadata": {},
   "source": [
    "# using LogisticRegression from sklearn"
   ]
  },
  {
   "cell_type": "code",
   "execution_count": 184,
   "id": "324de551-ba30-4c0e-b3a4-67856738e433",
   "metadata": {},
   "outputs": [],
   "source": [
    "x_train,x_test,y_train,y_test=train_test_split(df_inputs,df_target,test_size=0.2)"
   ]
  },
  {
   "cell_type": "code",
   "execution_count": 185,
   "id": "71eea3fa-682a-462f-a10f-064a04e9c662",
   "metadata": {},
   "outputs": [],
   "source": [
    "from sklearn.linear_model import LogisticRegression\n",
    "LogisticRegression = LogisticRegression()\n",
    "LogisticRegression.fit(x_train,y_train)\n",
    "y_predect=LogisticRegression.predict(x_test)"
   ]
  },
  {
   "cell_type": "code",
   "execution_count": 186,
   "id": "af1ff03c-1a99-4d6c-938b-81515062008f",
   "metadata": {},
   "outputs": [
    {
     "data": {
      "text/plain": [
       "<sklearn.metrics._plot.confusion_matrix.ConfusionMatrixDisplay at 0x201c74eae10>"
      ]
     },
     "execution_count": 186,
     "metadata": {},
     "output_type": "execute_result"
    },
    {
     "data": {
      "image/png": "[encoded data removed]",
      "text/plain": [
       "<Figure size 640x480 with 2 Axes>"
      ]
     },
     "metadata": {},
     "output_type": "display_data"
    }
   ],
   "source": [
    "cm = confusion_matrix(y_test, y_predect)\n",
    "disp = ConfusionMatrixDisplay(confusion_matrix=cm, display_labels=[0, 1])\n",
    "disp.plot(cmap='Blues')"
   ]
  },
  {
   "cell_type": "code",
   "execution_count": 187,
   "id": "1f9ec72a-b9af-4346-871e-1d709c012c09",
   "metadata": {},
   "outputs": [
    {
     "name": "stdout",
     "output_type": "stream",
     "text": [
      "R-squared using probabilities: 0.41758832326001627\n"
     ]
    }
   ],
   "source": [
    "from sklearn.metrics import r2_score\n",
    "r2 = r2_score(y_test, y_predect)\n",
    "print(\"R-squared using probabilities:\", r2)"
   ]
  }
 ],
 "metadata": {
  "kernelspec": {
   "display_name": "Python 3 (ipykernel)",
   "language": "python",
   "name": "python3"
  },
  "language_info": {
   "codemirror_mode": {
    "name": "ipython",
    "version": 3
   },
   "file_extension": ".py",
   "mimetype": "text/x-python",
   "name": "python",
   "nbconvert_exporter": "python",
   "pygments_lexer": "ipython3",
   "version": "3.12.4"
  }
 },
 "nbformat": 4,
 "nbformat_minor": 5
}
